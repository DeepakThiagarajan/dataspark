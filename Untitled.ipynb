{
 "cells": [
  {
   "cell_type": "code",
   "execution_count": 1,
   "id": "5fdcdfcc-f706-4849-a072-ced6b934faa1",
   "metadata": {},
   "outputs": [],
   "source": [
    "import pandas as pd\n",
    "import numpy as np\n",
    "from datetime import datetime\n",
    "import mysql.connector"
   ]
  },
  {
   "cell_type": "code",
   "execution_count": 2,
   "id": "08e587fe-3a94-4733-bbbf-c0bbb94ee5c2",
   "metadata": {},
   "outputs": [
    {
     "name": "stdout",
     "output_type": "stream",
     "text": [
      "All datasets loaded successfully!\n"
     ]
    }
   ],
   "source": [
    "sales_df = pd.read_csv('raw_data/Sales.csv')\n",
    "stores_df = pd.read_csv('raw_data/Stores.csv')\n",
    "products_df = pd.read_csv('raw_data/Products.csv')\n",
    "customers_df = pd.read_csv('raw_data/Customers.csv', encoding =\"ISO-8859-1\")\n",
    "exchange_df = pd.read_csv('raw_data/Exchange_Rates.csv')\n",
    "print(\"All datasets loaded successfully!\")"
   ]
  },
  {
   "cell_type": "code",
   "execution_count": 3,
   "id": "f438ce68-1d99-4a9d-8f72-16fc83e47dee",
   "metadata": {},
   "outputs": [
    {
     "name": "stdout",
     "output_type": "stream",
     "text": [
      "\n",
      "Missing values in Stores dataset:\n",
      "Square Meters    1\n",
      "dtype: int64\n",
      "\n",
      "Missing values in Sales dataset:\n",
      "Delivery Date    49719\n",
      "dtype: int64\n",
      "\n",
      "Missing values in Customers dataset:\n",
      "State Code    10\n",
      "dtype: int64\n"
     ]
    }
   ],
   "source": [
    "for df_name, df in {'Stores': stores_df, 'Products': products_df, 'Sales': sales_df, \n",
    "                    'Exchange': exchange_df, 'Customers': customers_df}.items():\n",
    "    \n",
    "    missing_count = df.isnull().sum()\n",
    "    if missing_count.any():\n",
    "        print(f\"\\nMissing values in {df_name} dataset:\")\n",
    "        print(missing_count[missing_count > 0])"
   ]
  },
  {
   "cell_type": "code",
   "execution_count": 4,
   "id": "00b31455-b0da-4882-bcca-5906e2b498be",
   "metadata": {},
   "outputs": [
    {
     "data": {
      "text/plain": [
       "0      1/1/2008\n",
       "1     1/12/2008\n",
       "2      1/7/2012\n",
       "3      1/1/2010\n",
       "4     12/9/2015\n",
       "        ...    \n",
       "62     3/6/2008\n",
       "63     1/1/2010\n",
       "64     1/1/2012\n",
       "65     1/1/2014\n",
       "66     1/1/2010\n",
       "Name: Open Date, Length: 67, dtype: object"
      ]
     },
     "execution_count": 4,
     "metadata": {},
     "output_type": "execute_result"
    }
   ],
   "source": [
    "stores_df['Open Date']"
   ]
  },
  {
   "cell_type": "code",
   "execution_count": 5,
   "id": "04b3bcaa-4f4e-4d47-ac01-5e555de684f9",
   "metadata": {},
   "outputs": [],
   "source": [
    "stores_df['Open Date'] = pd.to_datetime(stores_df['Open Date'])"
   ]
  },
  {
   "cell_type": "code",
   "execution_count": 6,
   "id": "89e04b89-d22a-46a1-86bb-f18aea9e0444",
   "metadata": {},
   "outputs": [
    {
     "data": {
      "text/plain": [
       "0    2008-01-01\n",
       "1    2008-01-12\n",
       "2    2012-01-07\n",
       "3    2010-01-01\n",
       "4    2015-12-09\n",
       "        ...    \n",
       "62   2008-03-06\n",
       "63   2010-01-01\n",
       "64   2012-01-01\n",
       "65   2014-01-01\n",
       "66   2010-01-01\n",
       "Name: Open Date, Length: 67, dtype: datetime64[ns]"
      ]
     },
     "execution_count": 6,
     "metadata": {},
     "output_type": "execute_result"
    }
   ],
   "source": [
    "stores_df['Open Date']"
   ]
  },
  {
   "cell_type": "code",
   "execution_count": 7,
   "id": "85ccb245-5be5-45d8-b129-8419a5251f44",
   "metadata": {},
   "outputs": [
    {
     "data": {
      "text/plain": [
       "0      595.0\n",
       "1      665.0\n",
       "2     2000.0\n",
       "3     2000.0\n",
       "4     2000.0\n",
       "       ...  \n",
       "62    2000.0\n",
       "63    1330.0\n",
       "64    1785.0\n",
       "65     840.0\n",
       "66       NaN\n",
       "Name: Square Meters, Length: 67, dtype: float64"
      ]
     },
     "execution_count": 7,
     "metadata": {},
     "output_type": "execute_result"
    }
   ],
   "source": [
    "stores_df['Square Meters']"
   ]
  },
  {
   "cell_type": "code",
   "execution_count": 8,
   "id": "fefd7cf2-da75-4842-8c9a-985199447444",
   "metadata": {},
   "outputs": [
    {
     "data": {
      "text/plain": [
       "np.float64(1402.1969696969697)"
      ]
     },
     "execution_count": 8,
     "metadata": {},
     "output_type": "execute_result"
    }
   ],
   "source": [
    "stores_df['Square Meters'].mean()"
   ]
  },
  {
   "cell_type": "code",
   "execution_count": 9,
   "id": "ab06ae58-a04d-4bfb-a3a3-20f11400c9c5",
   "metadata": {},
   "outputs": [],
   "source": [
    "stores_df['Square Meters'] = stores_df['Square Meters'].fillna(stores_df['Square Meters'].mean())"
   ]
  },
  {
   "cell_type": "code",
   "execution_count": 10,
   "id": "c5efdfc7-1f29-42b2-a97a-bc09aa5a5331",
   "metadata": {},
   "outputs": [
    {
     "data": {
      "text/plain": [
       "0      595.00000\n",
       "1      665.00000\n",
       "2     2000.00000\n",
       "3     2000.00000\n",
       "4     2000.00000\n",
       "         ...    \n",
       "62    2000.00000\n",
       "63    1330.00000\n",
       "64    1785.00000\n",
       "65     840.00000\n",
       "66    1402.19697\n",
       "Name: Square Meters, Length: 67, dtype: float64"
      ]
     },
     "execution_count": 10,
     "metadata": {},
     "output_type": "execute_result"
    }
   ],
   "source": [
    "stores_df['Square Meters']"
   ]
  },
  {
   "cell_type": "code",
   "execution_count": 11,
   "id": "c59b3841-4405-4e51-aeb2-78e2d89354ec",
   "metadata": {},
   "outputs": [
    {
     "name": "stdout",
     "output_type": "stream",
     "text": [
      "\n",
      "Missing values in Sales dataset:\n",
      "Delivery Date    49719\n",
      "dtype: int64\n",
      "\n",
      "Missing values in Customers dataset:\n",
      "State Code    10\n",
      "dtype: int64\n"
     ]
    }
   ],
   "source": [
    "for df_name, df in {'Stores': stores_df, 'Products': products_df, 'Sales': sales_df, \n",
    "                    'Exchange': exchange_df, 'Customers': customers_df}.items():\n",
    "    \n",
    "    missing_count = df.isnull().sum()\n",
    "    if missing_count.any():\n",
    "        print(f\"\\nMissing values in {df_name} dataset:\")\n",
    "        print(missing_count[missing_count > 0])"
   ]
  },
  {
   "cell_type": "code",
   "execution_count": 12,
   "id": "edd8d13f-6bfd-4daf-9b51-fbecdc7e9a26",
   "metadata": {},
   "outputs": [
    {
     "data": {
      "text/plain": [
       "0    6227 days 15:21:55.517350\n",
       "1    6216 days 15:21:55.517350\n",
       "2    4760 days 15:21:55.517350\n",
       "3    5496 days 15:21:55.517350\n",
       "4    3328 days 15:21:55.517350\n",
       "                ...           \n",
       "62   6162 days 15:21:55.517350\n",
       "63   5496 days 15:21:55.517350\n",
       "64   4766 days 15:21:55.517350\n",
       "65   4035 days 15:21:55.517350\n",
       "66   5496 days 15:21:55.517350\n",
       "Name: Open Date, Length: 67, dtype: timedelta64[ns]"
      ]
     },
     "execution_count": 12,
     "metadata": {},
     "output_type": "execute_result"
    }
   ],
   "source": [
    "pd.Timestamp.now() - stores_df['Open Date']"
   ]
  },
  {
   "cell_type": "code",
   "execution_count": 13,
   "id": "b705b46e-58aa-489e-b2de-effdff78192b",
   "metadata": {},
   "outputs": [],
   "source": [
    "stores_df['Store_Age_Years'] = (pd.Timestamp.now() - stores_df['Open Date']).dt.total_seconds() / (365.25 * 24 * 60 * 60)"
   ]
  },
  {
   "cell_type": "code",
   "execution_count": 14,
   "id": "c4337b22-3049-4cc7-b871-0ceca65aee31",
   "metadata": {},
   "outputs": [],
   "source": [
    "stores_df['Store_Size_Category'] = pd.qcut(stores_df['Square Meters'], \n",
    "                                         q=4, \n",
    "                                         labels=['Small', 'Medium', 'Large', 'Extra Large'])"
   ]
  },
  {
   "cell_type": "code",
   "execution_count": 15,
   "id": "a9357a18-19f8-40f7-9441-38e7661815b7",
   "metadata": {},
   "outputs": [
    {
     "data": {
      "text/plain": [
       "0     17.050350\n",
       "1     17.020233\n",
       "2     13.033923\n",
       "3     15.048981\n",
       "4      9.113320\n",
       "        ...    \n",
       "62    16.872389\n",
       "63    15.048981\n",
       "64    13.050350\n",
       "65    11.048981\n",
       "66    15.048981\n",
       "Name: Store_Age_Years, Length: 67, dtype: float64"
      ]
     },
     "execution_count": 15,
     "metadata": {},
     "output_type": "execute_result"
    }
   ],
   "source": [
    "stores_df['Store_Age_Years']"
   ]
  },
  {
   "cell_type": "code",
   "execution_count": 16,
   "id": "f8c85061-5474-4218-a40e-d3d31fdc7c86",
   "metadata": {},
   "outputs": [
    {
     "name": "stdout",
     "output_type": "stream",
     "text": [
      "\n",
      "Missing values in Sales dataset:\n",
      "Delivery Date    49719\n",
      "dtype: int64\n",
      "\n",
      "Missing values in Customers dataset:\n",
      "State Code    10\n",
      "dtype: int64\n"
     ]
    }
   ],
   "source": [
    "for df_name, df in {'Stores': stores_df, 'Products': products_df, 'Sales': sales_df, \n",
    "                    'Exchange': exchange_df, 'Customers': customers_df}.items():\n",
    "    \n",
    "    missing_count = df.isnull().sum()\n",
    "    if missing_count.any():\n",
    "        print(f\"\\nMissing values in {df_name} dataset:\")\n",
    "        print(missing_count[missing_count > 0])"
   ]
  },
  {
   "cell_type": "code",
   "execution_count": 17,
   "id": "f62dac51-bda9-4b27-9e42-e9b53615f30a",
   "metadata": {},
   "outputs": [
    {
     "data": {
      "text/plain": [
       "0      595.0\n",
       "1      665.0\n",
       "2     2000.0\n",
       "3     2000.0\n",
       "4     2000.0\n",
       "       ...  \n",
       "62    2000.0\n",
       "63    1330.0\n",
       "64    1785.0\n",
       "65     840.0\n",
       "66    1402.2\n",
       "Name: Square Meters, Length: 67, dtype: float64"
      ]
     },
     "execution_count": 17,
     "metadata": {},
     "output_type": "execute_result"
    }
   ],
   "source": [
    "stores_df['Square Meters'].round(2)"
   ]
  },
  {
   "cell_type": "code",
   "execution_count": 18,
   "id": "4f7d9007-48be-4aa9-be19-294fa50f476b",
   "metadata": {},
   "outputs": [
    {
     "data": {
      "text/plain": [
       "0        $6.62 \n",
       "1        $6.62 \n",
       "2        $7.40 \n",
       "3       $11.00 \n",
       "4       $11.00 \n",
       "         ...   \n",
       "2512    $43.07 \n",
       "2513    $43.07 \n",
       "2514     $1.71 \n",
       "2515     $1.71 \n",
       "2516     $1.71 \n",
       "Name: Unit Cost USD, Length: 2517, dtype: object"
      ]
     },
     "execution_count": 18,
     "metadata": {},
     "output_type": "execute_result"
    }
   ],
   "source": [
    "products_df['Unit Price USD']\n",
    "products_df['Unit Cost USD']"
   ]
  },
  {
   "cell_type": "code",
   "execution_count": 19,
   "id": "790fffa0-af03-4f16-9583-65adfa6249ce",
   "metadata": {},
   "outputs": [
    {
     "name": "stderr",
     "output_type": "stream",
     "text": [
      "<>:2: SyntaxWarning: invalid escape sequence '\\$'\n",
      "<>:2: SyntaxWarning: invalid escape sequence '\\$'\n",
      "C:\\Users\\deepa\\AppData\\Local\\Temp\\ipykernel_17328\\3904179585.py:2: SyntaxWarning: invalid escape sequence '\\$'\n",
      "  products_df[col] = products_df[col].str.replace('[\\$,]', '', regex=True).astype(float)\n"
     ]
    }
   ],
   "source": [
    "for col in ['Unit Cost USD', 'Unit Price USD']:\n",
    "    products_df[col] = products_df[col].str.replace('[\\$,]', '', regex=True).astype(float)"
   ]
  },
  {
   "cell_type": "code",
   "execution_count": 20,
   "id": "da502ad8-9f18-4379-8646-98fe58a5d380",
   "metadata": {},
   "outputs": [],
   "source": [
    "products_df['Profit_Margin'] = ((products_df['Unit Price USD'] - products_df['Unit Cost USD']) / \n",
    "                               products_df['Unit Price USD'] * 100).round(2)"
   ]
  },
  {
   "cell_type": "code",
   "execution_count": 21,
   "id": "674c62e7-1c3e-46c9-bf42-3e27291c44b9",
   "metadata": {},
   "outputs": [
    {
     "data": {
      "text/plain": [
       "0       49.04\n",
       "1       49.04\n",
       "2       49.04\n",
       "3       49.00\n",
       "4       49.00\n",
       "        ...  \n",
       "2512    66.87\n",
       "2513    66.87\n",
       "2514    48.96\n",
       "2515    48.96\n",
       "2516    48.96\n",
       "Name: Profit_Margin, Length: 2517, dtype: float64"
      ]
     },
     "execution_count": 21,
     "metadata": {},
     "output_type": "execute_result"
    }
   ],
   "source": [
    "products_df['Profit_Margin']"
   ]
  },
  {
   "cell_type": "code",
   "execution_count": 22,
   "id": "2b04518d-7778-4014-a582-0b96b30f66dd",
   "metadata": {},
   "outputs": [],
   "source": [
    "products_df['Price_Category'] = pd.qcut(products_df['Unit Price USD'], \n",
    "                                      q=5, \n",
    "                                      labels=['Budget', 'Economy', 'Standard', 'Premium', 'Luxury'])\n",
    "products_df['Category_Subcategory'] = products_df['Category'] + ' - ' + products_df['Subcategory']"
   ]
  },
  {
   "cell_type": "code",
   "execution_count": 23,
   "id": "d613ddc2-4804-4b45-a17d-985301344152",
   "metadata": {},
   "outputs": [],
   "source": [
    "sales_df['Order Date'] = pd.to_datetime(sales_df['Order Date'])\n",
    "sales_df['Year'] = sales_df['Order Date'].dt.year\n",
    "sales_df['Month'] = sales_df['Order Date'].dt.month\n",
    "sales_df['Month_Name'] = sales_df['Order Date'].dt.month_name()\n",
    "sales_df['Quarter'] = sales_df['Order Date'].dt.quarter\n",
    "sales_df['Day_of_Week'] = sales_df['Order Date'].dt.day_name()\n",
    "sales_df['Order_Quarter'] = sales_df['Order Date'].dt.to_period('Q').astype(str)"
   ]
  },
  {
   "cell_type": "code",
   "execution_count": 24,
   "id": "e428992d-04d6-4103-a0b7-3bf8c6027a8c",
   "metadata": {},
   "outputs": [],
   "source": [
    "if 'Delivery Date' in sales_df.columns:\n",
    "    sales_df = sales_df.drop(columns=['Delivery Date'])"
   ]
  },
  {
   "cell_type": "code",
   "execution_count": 25,
   "id": "a339e852-4bc7-4fda-8180-789fec1d885e",
   "metadata": {},
   "outputs": [],
   "source": [
    "exchange_df['Date'] = pd.to_datetime(exchange_df['Date'])\n",
    "exchange_df.rename(columns={'Currency': 'CurrencyCode'}, inplace=True)\n",
    "exchange_df['Exchange'] = exchange_df['Exchange'].round(4)"
   ]
  },
  {
   "cell_type": "code",
   "execution_count": 26,
   "id": "f9eb0a5b-8cb3-42fb-98c9-c9ed92a360fa",
   "metadata": {},
   "outputs": [],
   "source": [
    "customers_df['State Code'] = customers_df['State Code'].fillna('Unknown')\n",
    "customers_df['Birthday'] = pd.to_datetime(customers_df['Birthday'])\n",
    "customers_df['Age'] = (pd.Timestamp.now() - customers_df['Birthday']).dt.total_seconds() / (365.25 * 24 * 60 * 60)\n",
    "customers_df['Age'] = customers_df['Age'].round().astype('Int64')\n",
    "customers_df['Age_Category'] = pd.cut(customers_df['Age'], \n",
    "                                    bins=[0, 25, 35, 50, 65, 100],\n",
    "                                    labels=['Young Adult', 'Adult', 'Middle Age', 'Senior', 'Elder'])\n",
    "customers_df.rename(columns={'Zip Code ': 'Zip Code'}, inplace=True)\n",
    "customers_df['Zip Code'] = pd.to_numeric(customers_df['Zip Code'], errors='coerce')\n",
    "customers_df['Zip Code'] = customers_df['Zip Code'].astype('Int64')\n",
    "customers_df['Customer_Region'] = customers_df['Country'] + ' - ' + customers_df['State']"
   ]
  },
  {
   "cell_type": "code",
   "execution_count": 27,
   "id": "7291d671-9147-40c0-b104-77441eca0013",
   "metadata": {},
   "outputs": [
    {
     "name": "stdout",
     "output_type": "stream",
     "text": [
      "\n",
      "Missing values in Customers dataset:\n",
      "Zip Code    4230\n",
      "dtype: int64\n"
     ]
    }
   ],
   "source": [
    "for df_name, df in {'Stores': stores_df, 'Products': products_df, 'Sales': sales_df, \n",
    "                    'Exchange': exchange_df, 'Customers': customers_df}.items():\n",
    "    \n",
    "    missing_count = df.isnull().sum()\n",
    "    if missing_count.any():\n",
    "        print(f\"\\nMissing values in {df_name} dataset:\")\n",
    "        print(missing_count[missing_count > 0])"
   ]
  },
  {
   "cell_type": "code",
   "execution_count": 28,
   "id": "d5a91cde-9e9d-4d28-bce6-62967d965661",
   "metadata": {},
   "outputs": [],
   "source": [
    "sales_with_products = sales_df.merge(products_df[['ProductKey', 'Unit Price USD']], \n",
    "                                   on='ProductKey', how='left')\n",
    "sales_df['Revenue_USD'] = sales_with_products['Unit Price USD'] * sales_df['Quantity']"
   ]
  },
  {
   "cell_type": "code",
   "execution_count": 29,
   "id": "782759f5-0073-4c70-81e7-98d343b506ba",
   "metadata": {},
   "outputs": [
    {
     "data": {
      "text/plain": [
       "0          68.00\n",
       "1         854.00\n",
       "2         665.94\n",
       "3        2254.00\n",
       "4         326.00\n",
       "          ...   \n",
       "62879     417.00\n",
       "62880     480.00\n",
       "62881     219.98\n",
       "62882     140.26\n",
       "62883    4753.00\n",
       "Name: Revenue_USD, Length: 62884, dtype: float64"
      ]
     },
     "execution_count": 29,
     "metadata": {},
     "output_type": "execute_result"
    }
   ],
   "source": [
    "sales_df['Revenue_USD']"
   ]
  },
  {
   "cell_type": "code",
   "execution_count": 30,
   "id": "64f945ca-eed6-4237-93b2-7c189decc1c8",
   "metadata": {},
   "outputs": [],
   "source": [
    "mysql_host = \"localhost\"\n",
    "mysql_user = \"root\"\n",
    "mysql_password = \"simple\"\n",
    "mysql_database = \"sales_record\"\n",
    "mysql_port = \"3306\""
   ]
  },
  {
   "cell_type": "code",
   "execution_count": 33,
   "id": "6e57aa0a-4704-43d6-907a-fffb17193c22",
   "metadata": {
    "scrolled": true
   },
   "outputs": [
    {
     "name": "stdout",
     "output_type": "stream",
     "text": [
      "Connected to MySQL database successfully\n",
      "\n",
      "Creating tables...\n",
      "Tables created successfully!\n",
      "Data inserted successfully!\n"
     ]
    }
   ],
   "source": [
    "import mysql.connector\n",
    "try:\n",
    "        connection = mysql.connector.connect(\n",
    "            host=mysql_host,\n",
    "            user=mysql_user,\n",
    "            password=mysql_password,\n",
    "            database=mysql_database,\n",
    "            port=mysql_port\n",
    "        )\n",
    "        cursor = connection.cursor()\n",
    "        print(\"Connected to MySQL database successfully\")\n",
    "\n",
    "        cursor.execute(\"CREATE DATABASE IF NOT EXISTS sales_record\")\n",
    "        cursor.execute(\"USE sales_record\")\n",
    "\n",
    "        print(\"\\nCreating tables...\")    \n",
    "        cursor.execute(\"\"\"\n",
    "            CREATE TABLE IF NOT EXISTS Cleaned_Stores (\n",
    "                StoreKey INT PRIMARY KEY,\n",
    "                Country VARCHAR(255),\n",
    "                State VARCHAR(255),\n",
    "                SquareMeters DECIMAL(10, 2),\n",
    "                OpenDate DATE,\n",
    "                Store_Age_Years DECIMAL(10, 2),\n",
    "                Store_Size_Category VARCHAR(50)\n",
    "            )\n",
    "        \"\"\")\n",
    "\n",
    "        cursor.execute(\"\"\"\n",
    "            CREATE TABLE IF NOT EXISTS Cleaned_Products (\n",
    "                ProductKey INT PRIMARY KEY,\n",
    "                ProductName VARCHAR(255),\n",
    "                Brand VARCHAR(255),\n",
    "                Color VARCHAR(255),\n",
    "                UnitCostUSD DECIMAL(10, 2),\n",
    "                UnitPriceUSD DECIMAL(10, 2),\n",
    "                SubcategoryKey INT,\n",
    "                Subcategory VARCHAR(255),\n",
    "                CategoryKey INT,\n",
    "                Category VARCHAR(255),\n",
    "                Profit_Margin DECIMAL(10, 2),\n",
    "                Price_Category VARCHAR(50),\n",
    "                Category_Subcategory VARCHAR(255)\n",
    "            )\n",
    "        \"\"\")\n",
    "\n",
    "        cursor.execute(\"\"\"\n",
    "            CREATE TABLE IF NOT EXISTS Cleaned_Customers (\n",
    "                CustomerKey INT PRIMARY KEY,\n",
    "                Gender VARCHAR(10),\n",
    "                Name VARCHAR(255),\n",
    "                City VARCHAR(255),\n",
    "                StateCode VARCHAR(50),\n",
    "                State VARCHAR(255),\n",
    "                ZipCode VARCHAR(20),\n",
    "                Country VARCHAR(255),\n",
    "                Continent VARCHAR(255),\n",
    "                Birthday DATE,\n",
    "                Age INT,\n",
    "                Age_Category VARCHAR(50),\n",
    "                Customer_Region VARCHAR(255)\n",
    "            )\n",
    "        \"\"\")\n",
    "\n",
    "        cursor.execute(\"\"\"\n",
    "            CREATE TABLE IF NOT EXISTS Cleaned_Sales (\n",
    "                OrderNumber INT,\n",
    "                LineItem INT,\n",
    "                OrderDate DATE,\n",
    "                CustomerKey INT,\n",
    "                StoreKey INT,\n",
    "                ProductKey INT,\n",
    "                Quantity INT,\n",
    "                CurrencyCode VARCHAR(10),\n",
    "                Year INT,\n",
    "                Month INT,\n",
    "                Month_Name VARCHAR(20),\n",
    "                Quarter INT,\n",
    "                Day_of_Week VARCHAR(20),\n",
    "                Order_Quarter VARCHAR(10),\n",
    "                Revenue_USD DECIMAL(10, 2),\n",
    "                FOREIGN KEY (CustomerKey) REFERENCES Cleaned_Customers(CustomerKey),\n",
    "                FOREIGN KEY (ProductKey) REFERENCES Cleaned_Products(ProductKey),\n",
    "                FOREIGN KEY (StoreKey) REFERENCES Cleaned_Stores(StoreKey)\n",
    "            )\n",
    "        \"\"\")  \n",
    "\n",
    "        cursor.execute(\"\"\"\n",
    "            CREATE TABLE IF NOT EXISTS Cleaned_Exchange_Rates (\n",
    "                Date DATE,\n",
    "                CurrencyCode VARCHAR(10),\n",
    "                Exchange DECIMAL(10, 4)\n",
    "            )\n",
    "        \"\"\")\n",
    "        print(\"Tables created successfully!\")\n",
    "\n",
    "\n",
    "        # Insert Stores data\n",
    "        for _, row in stores_df.iterrows():\n",
    "            values = []\n",
    "            for value in row:\n",
    "                if pd.isna(value):\n",
    "                    values.append(None)\n",
    "                else:\n",
    "                    values.append(value)\n",
    "                \n",
    "            cursor.execute(\"\"\"\n",
    "                INSERT INTO Cleaned_Stores \n",
    "                VALUES (%s, %s, %s, %s, %s, %s, %s)\n",
    "            \"\"\", tuple(values))\n",
    "    \n",
    "        # Insert Products data\n",
    "        for _, row in products_df.iterrows():\n",
    "            values = []\n",
    "            for value in row:\n",
    "                if pd.isna(value):\n",
    "                    values.append(None)\n",
    "                else:\n",
    "                    values.append(value)\n",
    "            cursor.execute(\"\"\"\n",
    "                INSERT INTO Cleaned_Products \n",
    "                VALUES (%s, %s, %s, %s, %s, %s, %s, %s, %s, %s, %s, %s, %s)\n",
    "            \"\"\", tuple(values))\n",
    "    \n",
    "        # Insert Customers data\n",
    "        for _, row in customers_df.iterrows():\n",
    "            values = []\n",
    "            for value in row:\n",
    "                if pd.isna(value):\n",
    "                    values.append(None)\n",
    "                else:\n",
    "                    values.append(value)\n",
    "            cursor.execute(\"\"\"\n",
    "                INSERT INTO Cleaned_Customers \n",
    "                VALUES (%s, %s, %s, %s, %s, %s, %s, %s, %s, %s, %s, %s, %s)\n",
    "            \"\"\", tuple(values))\n",
    "    \n",
    "        # Insert Sales data\n",
    "        for _, row in sales_df.iterrows():\n",
    "            values = []\n",
    "            for value in row:\n",
    "                if pd.isna(value):\n",
    "                    values.append(None)\n",
    "                else:\n",
    "                    values.append(value)\n",
    "            cursor.execute(\"\"\"\n",
    "                INSERT INTO Cleaned_Sales \n",
    "                VALUES (%s, %s, %s, %s, %s, %s, %s, %s, %s, %s, %s, %s, %s, %s, %s)\n",
    "            \"\"\", tuple(values))\n",
    "    \n",
    "        # Insert Exchange Rates data\n",
    "        for _, row in exchange_df.iterrows():\n",
    "            values = []\n",
    "            for value in row:\n",
    "                if pd.isna(value):\n",
    "                    values.append(None)\n",
    "                else:\n",
    "                    values.append(value)\n",
    "            cursor.execute(\"\"\"\n",
    "                INSERT INTO Cleaned_Exchange_Rates \n",
    "                VALUES (%s, %s, %s)\n",
    "            \"\"\", tuple(values))\n",
    "    \n",
    "        # Commit all changes\n",
    "        connection.commit()\n",
    "        print(\"Data inserted successfully!\")\n",
    "\n",
    "except Exception as e:\n",
    "    print(f\"An error occurred: {str(e)}\")\n",
    "    if connection:\n",
    "        connection.rollback()\n",
    "finally:\n",
    "    if connection:\n",
    "        connection.close()    \n",
    "        "
   ]
  },
  {
   "cell_type": "code",
   "execution_count": 34,
   "id": "f949370e-88eb-4746-8153-9b813589585b",
   "metadata": {},
   "outputs": [
    {
     "data": {
      "text/plain": [
       "0      Small\n",
       "1      Small\n",
       "2      Large\n",
       "3      Large\n",
       "4      Large\n",
       "       ...  \n",
       "62     Large\n",
       "63    Medium\n",
       "64     Large\n",
       "65     Small\n",
       "66     Large\n",
       "Name: Store_Size_Category, Length: 67, dtype: category\n",
       "Categories (4, object): ['Small' < 'Medium' < 'Large' < 'Extra Large']"
      ]
     },
     "execution_count": 34,
     "metadata": {},
     "output_type": "execute_result"
    }
   ],
   "source": [
    "stores_df['Store_Size_Category']\n"
   ]
  },
  {
   "cell_type": "code",
   "execution_count": null,
   "id": "e103093c-c96a-413c-b220-1ef0a67d0f24",
   "metadata": {},
   "outputs": [],
   "source": []
  }
 ],
 "metadata": {
  "kernelspec": {
   "display_name": "Python 3 (ipykernel)",
   "language": "python",
   "name": "python3"
  },
  "language_info": {
   "codemirror_mode": {
    "name": "ipython",
    "version": 3
   },
   "file_extension": ".py",
   "mimetype": "text/x-python",
   "name": "python",
   "nbconvert_exporter": "python",
   "pygments_lexer": "ipython3",
   "version": "3.12.4"
  }
 },
 "nbformat": 4,
 "nbformat_minor": 5
}
